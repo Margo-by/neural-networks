{
  "cells": [
    {
      "cell_type": "markdown",
      "metadata": {
        "id": "view-in-github",
        "colab_type": "text"
      },
      "source": [
        "<a href=\"https://colab.research.google.com/github/Margo-by/neural-networks/blob/main/lab1.ipynb\" target=\"_parent\"><img src=\"https://colab.research.google.com/assets/colab-badge.svg\" alt=\"Open In Colab\"/></a>"
      ]
    },
    {
      "cell_type": "code",
      "execution_count": null,
      "metadata": {
        "colab": {
          "base_uri": "https://localhost:8080/"
        },
        "id": "7HXkDJShxQ3C",
        "outputId": "a03ead22-3639-47a2-d40f-96cc58d0a4f4"
      },
      "outputs": [
        {
          "output_type": "stream",
          "name": "stdout",
          "text": [
            "0.34049134000389103\n",
            "0.4349516726098633\n"
          ]
        }
      ],
      "source": [
        "import math\n",
        "\n",
        "I1=1\n",
        "I2=0\n",
        "w1=0.45\n",
        "w2=0.78\n",
        "w3=-0.12\n",
        "w4=0.13\n",
        "w5=1.5\n",
        "w6=-2.3\n",
        "\n",
        "def sigmoid(x):\n",
        "    return 1 / (1 + math.exp(-x))\n",
        "\n",
        "H1input = I1*w1 + I2*w3\n",
        "H1output = sigmoid(H1input)\n",
        "\n",
        "H2input = I1*w2 + I2*w4\n",
        "H2output = sigmoid(H2input)\n",
        "\n",
        "O1input = H1output*w5 + H2output*w6\n",
        "O1output = sigmoid(O1input)\n",
        "\n",
        "O1ideal = I1 ^ I2\n",
        "\n",
        "Error = ((O1ideal - O1output) *(O1ideal - O1output)) / 1\n",
        "print(O1output)\n",
        "print(Error)"
      ]
    },
    {
      "cell_type": "code",
      "source": [
        "import random\n",
        "def sigmoid(x):\n",
        "    return 1 / (1 + math.exp(-x))\n",
        "\n",
        "def calculate_output(I1, I2, w):\n",
        "    H1input = I1 * w[0] + I2 * w[2]\n",
        "    H1output = sigmoid(H1input)\n",
        "\n",
        "    H2input = I1 * w[1] + I2 * w[3]\n",
        "    H2output = sigmoid(H2input)\n",
        "\n",
        "    O1input = H1output * w[4] + H2output * w[5]\n",
        "    O1output = sigmoid(O1input)\n",
        "\n",
        "    O1ideal = I1 ^ I2\n",
        "\n",
        "    Error = ((O1ideal - O1output) * (O1ideal - O1output)) / 1\n",
        "    return O1output, Error\n",
        "\n",
        "inputs = [(0, 0), (0, 1), (1, 0), (1, 1)]\n",
        "\n",
        "best_error = float('inf')\n",
        "best_w = None\n",
        "\n",
        "# Инициализация с начальными значениями\n",
        "initial_w = [0.45, 0.78, -0.12, 0.13, 1.5, -2.3]\n",
        "total_error = sum(calculate_output(I1, I2, initial_w)[1] for I1, I2 in inputs)/4\n",
        "best_error = total_error\n",
        "best_w = initial_w\n",
        "\n",
        "# Пробуем еще 100 случайных набора весов\n",
        "for _ in range(100):\n",
        "    w = [random.uniform(-5, 5) for _ in range(6)]\n",
        "    total_error = sum(calculate_output(I1, I2, w)[1] for I1, I2 in inputs)/4\n",
        "    if total_error < best_error:\n",
        "        best_error = total_error\n",
        "        best_w = w\n",
        "\n",
        "print(\"Лучший вектор w:\", best_w)\n",
        "print(\"Минимальная суммарная ошибка ошибка:\", best_error)"
      ],
      "metadata": {
        "colab": {
          "base_uri": "https://localhost:8080/"
        },
        "id": "E4ibgnVW7wjq",
        "outputId": "6877d825-da2b-483b-ce8c-afcba229f495"
      },
      "execution_count": null,
      "outputs": [
        {
          "output_type": "stream",
          "name": "stdout",
          "text": [
            "Лучший вектор w: [1.0572452606576466, -2.6258830839369707, 0.3037490291644982, -3.7939190379642174, 0.39527553258593784, -2.9258908194136013]\n",
            "Минимальная суммарная ошибка ошибка: 0.8187900040214857\n"
          ]
        }
      ]
    },
    {
      "cell_type": "code",
      "source": [
        "import random\n",
        "def sigmoid(x):\n",
        "    return 1 / (1 + math.exp(-x))\n",
        "\n",
        "def calculate_output(I1, I2, w):\n",
        "    H1input = I1 * w[0] + I2 * w[2]+w[6]\n",
        "    H1output = sigmoid(H1input)\n",
        "\n",
        "    H2input = I1 * w[1] + I2 * w[3]+w[7]\n",
        "    H2output = sigmoid(H2input)\n",
        "\n",
        "    O1input = H1output * w[4] + H2output * w[5]+w[8]\n",
        "    O1output = sigmoid(O1input)\n",
        "\n",
        "    O1ideal = I1 ^ I2\n",
        "\n",
        "    Error = ((O1ideal - O1output) * (O1ideal - O1output)) / 1\n",
        "    return O1output, Error\n",
        "\n",
        "inputs = [(0, 0), (0, 1), (1, 0), (1, 1)]\n",
        "\n",
        "best_error = float('inf')\n",
        "best_w = None\n",
        "\n",
        "# Инициализация с начальными значениями\n",
        "initial_w = [0.45, 0.78, -0.12, 0.13, 1.5, -2.3, 1,1,1]\n",
        "total_error = sum(calculate_output(I1, I2, initial_w)[1] for I1, I2 in inputs)/4\n",
        "best_error = total_error\n",
        "best_w = initial_w\n",
        "\n",
        "print(\"вектор w:\", initial_w)\n",
        "print(\"Cуммарная ошибка:\", total_error )"
      ],
      "metadata": {
        "colab": {
          "base_uri": "https://localhost:8080/"
        },
        "id": "baiawMKr_pTX",
        "outputId": "720276ec-8a40-401b-a668-214fd1729d50"
      },
      "execution_count": null,
      "outputs": [
        {
          "output_type": "stream",
          "name": "stdout",
          "text": [
            "вектор w: [0.45, 0.78, -0.12, 0.13, 1.5, -2.3, 1, 1, 1]\n",
            "Cуммарная ошибка: 1.0294323617645795\n"
          ]
        }
      ]
    },
    {
      "cell_type": "code",
      "source": [
        "import random\n",
        "def sigmoid(x):\n",
        "    return 1 / (1 + math.exp(-x))\n",
        "\n",
        "def calculate_output(I1, I2, w):\n",
        "    H1input = I1 * w[0] + I2 * w[2]\n",
        "    H1output = sigmoid(H1input)\n",
        "\n",
        "    H2input = I1 * w[1] + I2 * w[3]\n",
        "    H2output = sigmoid(H2input)\n",
        "\n",
        "    O1input = H1output * w[4] + H2output * w[5]\n",
        "    O1output = sigmoid(O1input)\n",
        "\n",
        "    O1ideal = I1 ^ I2\n",
        "\n",
        "    Error = ((O1ideal - O1output) * (O1ideal - O1output)) / 1\n",
        "    return O1output, Error\n",
        "\n",
        "inputs = [(0, 0), (0, 1), (1, 0), (1, 1)]\n",
        "\n",
        "best_error = float('inf')\n",
        "best_w = None\n",
        "\n",
        "# Инициализация с начальными значениями\n",
        "initial_w = [0.45, 0.78, -0.12, 0.13, 1.5, -2.3]\n",
        "total_error = sum(calculate_output(I1, I2, initial_w)[1] for I1, I2 in inputs)/4\n",
        "best_error = total_error\n",
        "best_w = initial_w\n",
        "\n",
        "print(\"вектор w:\", initial_w)\n",
        "print(\"Cуммарная ошибка:\", total_error )"
      ],
      "metadata": {
        "colab": {
          "base_uri": "https://localhost:8080/"
        },
        "id": "-hsnaAUqDoqB",
        "outputId": "22d66434-2529-4f91-a19e-af513e46d2a6"
      },
      "execution_count": null,
      "outputs": [
        {
          "output_type": "stream",
          "name": "stdout",
          "text": [
            "вектор w: [0.45, 0.78, -0.12, 0.13, 1.5, -2.3]\n",
            "Cуммарная ошибка: 1.0897321773442665\n"
          ]
        }
      ]
    }
  ],
  "metadata": {
    "colab": {
      "provenance": [],
      "authorship_tag": "ABX9TyNCNIKdvLKOTfMfROEpMOoB",
      "include_colab_link": true
    },
    "kernelspec": {
      "display_name": "Python 3",
      "name": "python3"
    },
    "language_info": {
      "name": "python"
    }
  },
  "nbformat": 4,
  "nbformat_minor": 0
}