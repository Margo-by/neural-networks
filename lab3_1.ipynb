{
  "nbformat": 4,
  "nbformat_minor": 0,
  "metadata": {
    "colab": {
      "provenance": [],
      "authorship_tag": "ABX9TyPaEslB27+pflnhDMO11miV",
      "include_colab_link": true
    },
    "kernelspec": {
      "name": "python3",
      "display_name": "Python 3"
    },
    "language_info": {
      "name": "python"
    }
  },
  "cells": [
    {
      "cell_type": "markdown",
      "metadata": {
        "id": "view-in-github",
        "colab_type": "text"
      },
      "source": [
        "<a href=\"https://colab.research.google.com/github/Margo-by/neural-networks/blob/main/lab3_1.ipynb\" target=\"_parent\"><img src=\"https://colab.research.google.com/assets/colab-badge.svg\" alt=\"Open In Colab\"/></a>"
      ]
    },
    {
      "cell_type": "markdown",
      "source": [
        "**Задание1**"
      ],
      "metadata": {
        "id": "En5Ok2PlhWFm"
      }
    },
    {
      "cell_type": "code",
      "source": [
        "#a) Во втором элементе кортежа (1, [2, 3]) добавьте еще один элемент: 4.\n",
        "\n",
        "tuple_1 = (1, [2, 3])\n",
        "tuple_1[1].append(4)\n",
        "print(tuple_1)\n"
      ],
      "metadata": {
        "colab": {
          "base_uri": "https://localhost:8080/"
        },
        "id": "_298h_NegfhM",
        "outputId": "02bf8d95-6ab5-4899-ac4a-bad74ef45283"
      },
      "execution_count": 1,
      "outputs": [
        {
          "output_type": "stream",
          "name": "stdout",
          "text": [
            "(1, [2, 3, 4])\n"
          ]
        }
      ]
    },
    {
      "cell_type": "code",
      "source": [
        "#b) К кортежу (1, [2, 3]) добавьте список из трех элементов.\n",
        "\n",
        "tuple_1 = (1, [2, 3])\n",
        "tuple_2 = tuple_1 + ([4, 5, 6],)\n",
        "print(tuple_2)"
      ],
      "metadata": {
        "colab": {
          "base_uri": "https://localhost:8080/"
        },
        "id": "92qP1dkbgoT-",
        "outputId": "94b97b98-674f-4fee-9afe-c7b75cf866cf"
      },
      "execution_count": 5,
      "outputs": [
        {
          "output_type": "stream",
          "name": "stdout",
          "text": [
            "(1, [2, 3], [4, 5, 6])\n"
          ]
        }
      ]
    },
    {
      "cell_type": "code",
      "source": [
        "#c) К кортежу (1, [2, 3]) добавьте еще один элемент: строку.\n",
        "\n",
        "tuple_1 = (1, [2, 3])\n",
        "tuple_2 = tuple_1 + ('text',)\n",
        "print(tuple_2)"
      ],
      "metadata": {
        "colab": {
          "base_uri": "https://localhost:8080/"
        },
        "id": "Ac5gnmkZgsyl",
        "outputId": "d32cd5e0-1853-465c-d756-865ffebd12d5"
      },
      "execution_count": 6,
      "outputs": [
        {
          "output_type": "stream",
          "name": "stdout",
          "text": [
            "(1, [2, 3], 'text')\n"
          ]
        }
      ]
    },
    {
      "cell_type": "code",
      "source": [
        "#d) Во втором элементе кортежа (1, [2, 3]) повторите еще раз имеющийся список.\n",
        "\n",
        "tuple_1 = (1, [2, 3])\n",
        "tuple_1[1].extend(tuple_1[1])\n",
        "print(tuple_1)"
      ],
      "metadata": {
        "colab": {
          "base_uri": "https://localhost:8080/"
        },
        "id": "orahofa4guyd",
        "outputId": "c2dd6a82-f9b0-4f96-db9e-6d04096e40a4"
      },
      "execution_count": 10,
      "outputs": [
        {
          "output_type": "stream",
          "name": "stdout",
          "text": [
            "(1, [2, 3, 2, 3])\n"
          ]
        }
      ]
    },
    {
      "cell_type": "markdown",
      "source": [
        "**Задание2**"
      ],
      "metadata": {
        "id": "kGQaAsJUhgE-"
      }
    },
    {
      "cell_type": "code",
      "source": [
        "#a) Даны два списка чисел. Посчитайте, сколько чисел содержится одновременно как в первом списке, так и во втором.\n",
        "\n",
        "list1 = [1, 2, 3, 4, 5]\n",
        "list2 = [4, 5, 6, 7, 8]\n",
        "common_numbers = len(set(list1) & set(list2))\n",
        "print(common_numbers)"
      ],
      "metadata": {
        "colab": {
          "base_uri": "https://localhost:8080/"
        },
        "id": "402DOhUMgyq3",
        "outputId": "7658d6d1-db18-4800-cbfa-d22193aecbf9"
      },
      "execution_count": 11,
      "outputs": [
        {
          "output_type": "stream",
          "name": "stdout",
          "text": [
            "2\n"
          ]
        }
      ]
    },
    {
      "cell_type": "code",
      "source": [
        "\"\"\"\n",
        "b) Во входной строке записана последовательность чисел через пробел.\n",
        " Для каждого числа выведите слово YES (в отдельной строке),\n",
        "  если это число ранее встречалось в последовательности или NO, если не встречалось.\n",
        "\"\"\"\n",
        "numbers = input().split()\n",
        "seen = set()\n",
        "for number in numbers:\n",
        "    if number in seen:\n",
        "        print(\"YES\")\n",
        "    else:\n",
        "        print(\"NO\")\n",
        "        seen.add(number)"
      ],
      "metadata": {
        "colab": {
          "base_uri": "https://localhost:8080/"
        },
        "id": "CneHH0gIg1mX",
        "outputId": "fad07149-428c-48f4-d41c-79ab8e2366ef"
      },
      "execution_count": 13,
      "outputs": [
        {
          "output_type": "stream",
          "name": "stdout",
          "text": [
            "20 20 40 30 5 30\n",
            "NO\n",
            "YES\n",
            "NO\n",
            "NO\n",
            "NO\n",
            "YES\n"
          ]
        }
      ]
    },
    {
      "cell_type": "code",
      "source": [
        "\"\"\"\n",
        "c) Аня и Боря любят играть в разноцветные кубики, причем у каждого\n",
        " из них свой набор и в каждом наборе все кубики различны по цвету.\n",
        "Однажды дети заинтересовались, сколько существуют цветов таких,\n",
        "что кубики каждого цвета присутствуют в обоих наборах.\n",
        "Для этого они занумеровали все цвета случайными числами от 0 до 108.\n",
        "На этом их энтузиазм иссяк, поэтому вам предлагается помочь им в оставшейся части.\n",
        "\"\"\"\n",
        "n, m = map(int, input(\"Введите через пробел количество кубиков у Ани и у Бори: \").split())\n",
        "\n",
        "# Запрашиваем номера цветов кубиков у Ани\n",
        "anya_colors = set(int(x) for x in input(\"\\nВведите номера цветов кубиков у Ани (через пробел): \").split())\n",
        "\n",
        "# Запрашиваем номера цветов кубиков у Бори\n",
        "borya_colors =  set(int(x) for x in input(\"\\nВведите номера цветов кубиков у Бори (через пробел): \").split())\n",
        "\n",
        "common_colors = anya_colors & borya_colors\n",
        "only_anya_colors = anya_colors - borya_colors\n",
        "only_borya_colors = borya_colors - anya_colors\n",
        "\n",
        "print(\"\\nОбщих кубиков:\", len(common_colors), \"\\nномера:\")\n",
        "print(*sorted(common_colors))\n",
        "\n",
        "print(\"\\nОригинальных кубиков у Анни:\", len(only_anya_colors), \"\\nномера:\")\n",
        "print(*sorted(only_anya_colors))\n",
        "\n",
        "print(\"\\nОригинальных кубиков у Бори:\", len(only_borya_colors), \"\\nномера:\")\n",
        "print(*sorted(only_borya_colors))\n"
      ],
      "metadata": {
        "colab": {
          "base_uri": "https://localhost:8080/"
        },
        "id": "2QxX0jJKg4hD",
        "outputId": "41c112ad-3bac-4b4b-9d6f-4feab5c8c46c"
      },
      "execution_count": 20,
      "outputs": [
        {
          "output_type": "stream",
          "name": "stdout",
          "text": [
            "Введите через пробел количество кубиков у Ани и у Бори: 2 3\n",
            "\n",
            "Введите номера цветов кубиков у Ани (через пробел): 1 2\n",
            "\n",
            "Введите номера цветов кубиков у Бори (через пробел): 2 3 4\n",
            "\n",
            "Общих кубиков: 1 \n",
            "номера:\n",
            "2\n",
            "\n",
            "Оригинальных кубиков у Анни: 1 \n",
            "номера:\n",
            "1\n",
            "\n",
            "Оригинальных кубиков у Бори: 2 \n",
            "номера:\n",
            "3 4\n"
          ]
        }
      ]
    },
    {
      "cell_type": "code",
      "source": [
        "\"\"\"\n",
        "d) Август и Беатриса играют в игру. Август загадал натуральное число от 1 до n.\n",
        "Беатриса пытается угадать это число, для этого она называет некоторые множества\n",
        " натуральных чисел. Август отвечает Беатрисе YES, если среди названных ей чисел\n",
        "  есть задуманное или NO в противном случае. После нескольких заданных вопросов\n",
        "   Беатриса запуталась в том, какие вопросы она задавала и какие ответы получила\n",
        "    и просит вас помочь ей определить, какие числа мог задумать Август.\n",
        "\"\"\"\n",
        "\n",
        "max_number = int(input(\"Введите максимальное число, которое мог загадать Август: \"))\n",
        "secret_number = int(input(\"Введите число, которое загадал Август: \"))\n",
        "\n",
        "possible_numbers = set(range(1, max_number + 1))\n",
        "\n",
        "while True:\n",
        "    question = input(\"Беатриса, назови число или введи 'HELP' для вывода списка возможных чисел: \")\n",
        "\n",
        "    # Проверяем, является ли ответ числом или словом \"HELP\"\n",
        "    if question.upper() == \"HELP\":\n",
        "        # Выводим список возможных чисел, которые еще не были названы\n",
        "        print(\"Possible numbers:\", *sorted(possible_numbers))\n",
        "    else:\n",
        "        guess = int(question)\n",
        "        if guess == secret_number:\n",
        "            print(\"Yes\")\n",
        "            break\n",
        "        else:\n",
        "            print(\"No\")\n",
        "            possible_numbers.discard(guess)\n"
      ],
      "metadata": {
        "colab": {
          "base_uri": "https://localhost:8080/"
        },
        "id": "Xo97UCxgg7Ng",
        "outputId": "1e00e258-4002-4dc5-d075-a4e5815f8f39"
      },
      "execution_count": 22,
      "outputs": [
        {
          "output_type": "stream",
          "name": "stdout",
          "text": [
            "Введите максимальное число, которое мог загадать Август: 10\n",
            "Введите число, которое загадал Август: 5\n",
            "Беатриса, назови число или введи 'HELP' для вывода списка возможных чисел: 1\n",
            "No\n",
            "Беатриса, назови число или введи 'HELP' для вывода списка возможных чисел: HELP\n",
            "Possible numbers: 2 3 4 5 6 7 8 9 10\n",
            "Беатриса, назови число или введи 'HELP' для вывода списка возможных чисел: 3\n",
            "No\n",
            "Беатриса, назови число или введи 'HELP' для вывода списка возможных чисел: 5\n",
            "Yes\n"
          ]
        }
      ]
    },
    {
      "cell_type": "markdown",
      "source": [
        "**Задание 3**"
      ],
      "metadata": {
        "id": "ERpkelAqhsY1"
      }
    },
    {
      "cell_type": "code",
      "source": [
        "\"\"\"a) В единственной строке записан текст. Для каждого слова из данного текста подсчитайте,\n",
        " сколько раз оно встречалось в этом тексте ранее.\n",
        "\"\"\"\n",
        "text = input(\"Введите текст: \")\n",
        "words = text.split()\n",
        "word_count = {}\n",
        "\n",
        "for word in words:\n",
        "    if word not in word_count:\n",
        "        word_count[word] = 1\n",
        "    else:\n",
        "        word_count[word] += 1\n",
        "\n",
        "for word, count in word_count.items():\n",
        "    print(f\"Слово '{word}' встречается {count} раз(а)\")"
      ],
      "metadata": {
        "colab": {
          "base_uri": "https://localhost:8080/"
        },
        "id": "qBb8LY5hht88",
        "outputId": "6eae1c45-27fa-4060-8798-c778269a7dba"
      },
      "execution_count": 26,
      "outputs": [
        {
          "output_type": "stream",
          "name": "stdout",
          "text": [
            "Введите текст: 1 3 4 а в н 3 в а н н н\n",
            "Слово '1' встречается 1 раз(а)\n",
            "Слово '3' встречается 2 раз(а)\n",
            "Слово '4' встречается 1 раз(а)\n",
            "Слово 'а' встречается 2 раз(а)\n",
            "Слово 'в' встречается 2 раз(а)\n",
            "Слово 'н' встречается 4 раз(а)\n"
          ]
        }
      ]
    },
    {
      "cell_type": "code",
      "source": [
        "\"\"\"b) Вам дан словарь, состоящий из пар слов. Каждое слово\n",
        " является синонимом к парному ему слову. Все слова в словаре различны.\n",
        "\"\"\"\n",
        "# Создаем словарь с парами слов (слово: синоним)\n",
        "synonyms = {\n",
        "    \"happy\": \"joyful\",\n",
        "    \"big\": \"large\",\n",
        "    \"quick\": \"fast\",\n",
        "    \"good\": \"excellent\"\n",
        "}\n",
        "\n",
        "# Считываем слово, для которого нужно найти синоним\n",
        "word = input(\"Введите слово, для которого нужно найти синоним: \")\n",
        "\n",
        "# Проверяем, есть ли такое слово в словаре\n",
        "if word in synonyms:\n",
        "    print(f\"Синоним для слова '{word}' - '{synonyms[word]}'\")\n",
        "else:\n",
        "    print(f\"Синоним для слова '{word}' не найден\")\n"
      ],
      "metadata": {
        "colab": {
          "base_uri": "https://localhost:8080/"
        },
        "id": "tumPvZwZhxIS",
        "outputId": "308f7a95-d920-49ce-d54b-3bf1ff914f4f"
      },
      "execution_count": 28,
      "outputs": [
        {
          "output_type": "stream",
          "name": "stdout",
          "text": [
            "Введите слово, для которого нужно найти синоним: good\n",
            "Синоним для слова 'good' - 'excellent'\n"
          ]
        }
      ]
    },
    {
      "cell_type": "code",
      "source": [
        "\"\"\"c) Дан текст: в первой строке задано число строк, далее идут сами строки.\n",
        " Выведите слово, которое в этом тексте встречается чаще всего. Если таких слов\n",
        " несколько, выведите то, которое меньше в лексикографическом порядке.\n",
        "\"\"\"\n",
        "from collections import Counter\n",
        "\n",
        "n = int(input(\"Введите количество строк: \"))\n",
        "words = []\n",
        "\n",
        "for _ in range(n):\n",
        "    line = input().split()\n",
        "    words.extend(line)\n",
        "\n",
        "word_count = Counter(words)\n",
        "most_common_word = min(word_count, key=lambda x: (-word_count[x], x))\n",
        "print(\"Самое часто встречающееся слово:\", most_common_word)"
      ],
      "metadata": {
        "colab": {
          "base_uri": "https://localhost:8080/"
        },
        "id": "gPYzkoRAh1jr",
        "outputId": "dd450ed4-b674-4ea0-8d8a-43314ca5cf0e"
      },
      "execution_count": 31,
      "outputs": [
        {
          "output_type": "stream",
          "name": "stdout",
          "text": [
            "Введите количество строк: 3\n",
            "a a a\n",
            "b b b\n",
            "letgt\n",
            "Самое часто встречающееся слово: a\n"
          ]
        }
      ]
    },
    {
      "cell_type": "code",
      "source": [
        "\"\"\"d) Дан текст: в первой строке записано количество строк в тексте,\n",
        " а затем сами строки. Выведите все слова, встречающиеся в тексте,\n",
        " по одному на каждую строку. Слова должны быть отсортированы по\n",
        "  убыванию их количества появления в тексте, а при одинаковой\n",
        "   частоте появления — в лексикографическом порядке.\"\"\"\n",
        "\n",
        "from collections import Counter\n",
        "\n",
        "n = int(input(\"Введите количество строк: \"))\n",
        "words = []\n",
        "\n",
        "for _ in range(n):\n",
        "    line = input().split()\n",
        "    words.extend(line)\n",
        "\n",
        "word_count = Counter(words)\n",
        "sorted_words = sorted(word_count.items(), key=lambda x: (-x[1], x[0]))\n",
        "\n",
        "for word, count in sorted_words:\n",
        "    print(word)"
      ],
      "metadata": {
        "colab": {
          "base_uri": "https://localhost:8080/"
        },
        "id": "NIg4zVjuh4aq",
        "outputId": "0ba7dd1e-60d9-4aec-94dc-16ef56a2da11"
      },
      "execution_count": 32,
      "outputs": [
        {
          "output_type": "stream",
          "name": "stdout",
          "text": [
            "Введите количество строк: 3\n",
            "аба ба ба\n",
            "баб баб баб\n",
            "абб абб абб \n",
            "абб\n",
            "баб\n",
            "ба\n",
            "аба\n"
          ]
        }
      ]
    },
    {
      "cell_type": "code",
      "source": [],
      "metadata": {
        "id": "bUwbhjgc0Znb"
      },
      "execution_count": null,
      "outputs": []
    }
  ]
}