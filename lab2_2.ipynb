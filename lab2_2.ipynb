{
  "nbformat": 4,
  "nbformat_minor": 0,
  "metadata": {
    "colab": {
      "provenance": [],
      "authorship_tag": "ABX9TyPql1cMXmINxihNv65W9VwH",
      "include_colab_link": true
    },
    "kernelspec": {
      "name": "python3",
      "display_name": "Python 3"
    },
    "language_info": {
      "name": "python"
    }
  },
  "cells": [
    {
      "cell_type": "markdown",
      "metadata": {
        "id": "view-in-github",
        "colab_type": "text"
      },
      "source": [
        "<a href=\"https://colab.research.google.com/github/Margo-by/neural-networks/blob/main/lab2_2.ipynb\" target=\"_parent\"><img src=\"https://colab.research.google.com/assets/colab-badge.svg\" alt=\"Open In Colab\"/></a>"
      ]
    },
    {
      "cell_type": "markdown",
      "source": [
        "Задание 4. Достаточно решить три задачи (из темы 2.4):"
      ],
      "metadata": {
        "id": "4bzjQTGBMSOE"
      }
    },
    {
      "cell_type": "code",
      "execution_count": null,
      "metadata": {
        "colab": {
          "base_uri": "https://localhost:8080/"
        },
        "id": "JM2Md5cHIaes",
        "outputId": "64feba60-8815-4386-ed0f-e1e59861d7c7"
      },
      "outputs": [
        {
          "output_type": "stream",
          "name": "stdout",
          "text": [
            "Количество слов в строке: 6\n"
          ]
        }
      ],
      "source": [
        "# a) Дана строка, состоящая из слов, разделенных пробелами. Определите,\n",
        "# сколько в ней слов. Используйте для решения задачи метод count.\n",
        "\n",
        "string = \"Это пример строки с несколькими словами\"\n",
        "words_count = string.count(' ') + 1\n",
        "print(\"Количество слов в строке:\", words_count)"
      ]
    },
    {
      "cell_type": "code",
      "source": [
        "#b) Дана строка, состоящая ровно из двух слов, разделенных пробелом. Переставьте\n",
        "# эти слова местами. Результат запишите в строку и выведите получившуюся строку.\n",
        "\n",
        "string = \"первое второе\"\n",
        "reversed_string = ' '.join(reversed(string.split()))\n",
        "print(\"Получившаяся строка:\", reversed_string)"
      ],
      "metadata": {
        "id": "kuTRfs-JNjsO"
      },
      "execution_count": null,
      "outputs": []
    },
    {
      "cell_type": "code",
      "source": [
        "#c) Дана строка. Замените в этой строке все цифры 1 на слово one.\n",
        "\n",
        "string = \"12345 67891\"\n",
        "new_string = string.replace('1', 'one')\n",
        "print(\"Измененная строка:\", new_string)"
      ],
      "metadata": {
        "id": "aZ3CuOiENmuL"
      },
      "execution_count": null,
      "outputs": []
    },
    {
      "cell_type": "code",
      "source": [
        "#d) Дана строка, в которой буква h встречается минимум два раза. Удалите из этой\n",
        "# строки первое и последнее вхождение буквы h, а также все символы, находящиеся между ними.\n",
        "\n",
        "string = \"habchdeh\"\n",
        "first_h_index = string.find('h')\n",
        "last_h_index = string.rfind('h')\n",
        "new_string = string[:first_h_index] + string[last_h_index+1:]\n",
        "print(\"Измененная строка:\", new_string)"
      ],
      "metadata": {
        "id": "6DeplUFlNsCO"
      },
      "execution_count": null,
      "outputs": []
    },
    {
      "cell_type": "markdown",
      "source": [
        "Задание 5. Достаточно решить три задачи (из  темы  2.5):"
      ],
      "metadata": {
        "id": "QHKQbQYnN833"
      }
    },
    {
      "cell_type": "code",
      "source": [
        "#a) Выведите все элементы списка с четными индексами (то есть A[0], A[2], A[4], ...).\n",
        "\n",
        "A = [1, 2, 3, 4, 5, 6, 7, 8, 9, 10]\n",
        "even_index_elements = A[::2]\n",
        "print(\"Элементы списка с четными индексами:\", even_index_elements)"
      ],
      "metadata": {
        "colab": {
          "base_uri": "https://localhost:8080/"
        },
        "id": "n-ocrjwSOCFO",
        "outputId": "f2808064-cad0-49b4-c088-3c06fef7a8a1"
      },
      "execution_count": null,
      "outputs": [
        {
          "output_type": "stream",
          "name": "stdout",
          "text": [
            "Элементы списка с четными индексами: [1, 3, 5, 7, 9]\n"
          ]
        }
      ]
    },
    {
      "cell_type": "code",
      "source": [
        "#b) Дан список чисел. Выведите все элементы списка, которые больше предыдущего элемента.\n",
        "\n",
        "numbers = [1, 3, 5, 2, 4, 6, 8, 7]\n",
        "result = [numbers[i] for i in range(1, len(numbers)) if numbers[i] > numbers[i-1]]\n",
        "print(\"Элементы списка, больше предыдущего элемента:\", result)"
      ],
      "metadata": {
        "colab": {
          "base_uri": "https://localhost:8080/"
        },
        "id": "JidUokeEOOqE",
        "outputId": "c93d40f3-6c29-4f04-b494-fb692dbeb6f2"
      },
      "execution_count": null,
      "outputs": [
        {
          "output_type": "stream",
          "name": "stdout",
          "text": [
            "Элементы списка, больше предыдущего элемента: [3, 5, 4, 6, 8]\n"
          ]
        }
      ]
    },
    {
      "cell_type": "code",
      "source": [
        "#c) Дан список чисел. Определите, сколько в этом списке элементов, которые больше двух своих соседей,\n",
        "# и выведите количество таких элементов. Крайние элементы списка никогда не учитываются, поскольку у них недостаточно соседей.\n",
        "\n",
        "numbers = [1, 3, 5, 2, 4, 6, 8, 7]\n",
        "count = sum(1 for i in range(1, len(numbers)-1) if numbers[i] > numbers[i-1] and numbers[i] > numbers[i+1])\n",
        "print(\"Количество элементов списка, больших своих соседей:\", count)"
      ],
      "metadata": {
        "colab": {
          "base_uri": "https://localhost:8080/"
        },
        "id": "G4DkpwhwOSIB",
        "outputId": "d06e1f70-1ef7-4a2c-b184-6fa1df205ac3"
      },
      "execution_count": null,
      "outputs": [
        {
          "output_type": "stream",
          "name": "stdout",
          "text": [
            "Количество элементов списка, больших своих соседей: 2\n"
          ]
        }
      ]
    },
    {
      "cell_type": "code",
      "source": [
        "#d) В списке все элементы различны. Поменяйте местами минимальный и максимальный элемент этого списка.\n",
        "\n",
        "numbers = [3, 1, 4, 5, 9]\n",
        "min_index = numbers.index(min(numbers))\n",
        "max_index = numbers.index(max(numbers))\n",
        "numbers[min_index], numbers[max_index] = numbers[max_index], numbers[min_index]\n",
        "print(\"Список после замены минимального и максимального элементов:\", numbers)"
      ],
      "metadata": {
        "colab": {
          "base_uri": "https://localhost:8080/"
        },
        "id": "2OmCFqXGOUeK",
        "outputId": "868bcda5-e131-4798-ddac-4afde1b73fd9"
      },
      "execution_count": null,
      "outputs": [
        {
          "output_type": "stream",
          "name": "stdout",
          "text": [
            "Список после замены минимального и максимального элементов: [3, 9, 4, 5, 1]\n"
          ]
        }
      ]
    },
    {
      "cell_type": "code",
      "source": [
        "#e) Дан список-массив, заполненный случайным образом нулями и единицами (сформируйте его).\n",
        "#Найдите самую длинную непрерывную последовательность единиц и определите индексы первого и последнего элементов в ней.\n",
        "\n",
        "import random\n",
        "\n",
        "array = [random.choice([0, 1]) for _ in range(20)]\n",
        "print(\"Исходный список:\", array)\n",
        "\n",
        "max_length = 0\n",
        "start_index = 0\n",
        "end_index = 0\n",
        "current_length = 0\n",
        "current_start = 0\n",
        "\n",
        "for i, num in enumerate(array):\n",
        "    if num == 1:\n",
        "        current_length += 1\n",
        "        if current_length == 1:\n",
        "            current_start = i\n",
        "        if current_length > max_length:\n",
        "            max_length = current_length\n",
        "            start_index = current_start\n",
        "            end_index = i\n",
        "    else:\n",
        "        current_length = 0\n",
        "\n",
        "print(\"Самая длинная непрерывная последовательность единиц:\")\n",
        "print(\"Длина:\", max_length)\n",
        "print(\"Индексы первого и последнего элементов:\", start_index, end_index)"
      ],
      "metadata": {
        "colab": {
          "base_uri": "https://localhost:8080/"
        },
        "id": "4fejFGUVOZ57",
        "outputId": "b1c56bba-c6b6-437d-aab6-559c7e596c8b"
      },
      "execution_count": null,
      "outputs": [
        {
          "output_type": "stream",
          "name": "stdout",
          "text": [
            "Исходный список: [0, 0, 1, 1, 0, 1, 1, 1, 0, 0, 0, 0, 0, 1, 1, 1, 1, 0, 1, 0]\n",
            "Самая длинная непрерывная последовательность единиц:\n",
            "Длина: 4\n",
            "Индексы первого и последнего элементов: 13 16\n"
          ]
        }
      ]
    },
    {
      "cell_type": "markdown",
      "source": [
        "Задание 6. Достаточно решить шесть задач (из  тем 2.4 –  2.5):"
      ],
      "metadata": {
        "id": "JvSI75a2Q9wf"
      }
    },
    {
      "cell_type": "code",
      "source": [
        "#a) Определите, сколько гласных и сколько согласных букв в строке.\n",
        "\n",
        "string = \"строка,,,\"\n",
        "vowels = 0\n",
        "consonants = 0\n",
        "\n",
        "for char in string:\n",
        "    if char.lower() in 'aeiouаеёиоуыэюя':\n",
        "        vowels += 1\n",
        "    elif char.isalpha(): # возвращает True, если символ является буквой\n",
        "        consonants += 1\n",
        "\n",
        "print(\"Количество гласных букв:\", vowels)\n",
        "print(\"Количество согласных букв:\", consonants)"
      ],
      "metadata": {
        "colab": {
          "base_uri": "https://localhost:8080/"
        },
        "id": "t9j-IaEDRDt0",
        "outputId": "8e41194f-b3bc-48b4-c857-d11dfd763871"
      },
      "execution_count": null,
      "outputs": [
        {
          "output_type": "stream",
          "name": "stdout",
          "text": [
            "Количество гласных букв: 2\n",
            "Количество согласных букв: 4\n"
          ]
        }
      ]
    },
    {
      "cell_type": "code",
      "source": [
        "#b) Дано предложение, слова которого отделены пробелами, в конце предложения точка.\n",
        "# Напишите каждое слово, начиная его с большой буквы и заканчивая точкой.\n",
        "\n",
        "sentence = \"это предложение состоит из нескольких слов\"\n",
        "# Метод capitalize() делает первую букву слова заглавной, а остальные буквы - строчными.\n",
        "new_sentence = ' '.join(word.capitalize() for word in sentence.split()) + '.'\n",
        "print(\"Новое предложение:\", new_sentence)"
      ],
      "metadata": {
        "colab": {
          "base_uri": "https://localhost:8080/"
        },
        "id": "NNW7ZMSERH8Q",
        "outputId": "2d0843bb-dd9e-4608-df68-484b79f696fa"
      },
      "execution_count": null,
      "outputs": [
        {
          "output_type": "stream",
          "name": "stdout",
          "text": [
            "Новое предложение: Это Предложение Состоит Из Нескольких Слов.\n"
          ]
        }
      ]
    },
    {
      "cell_type": "code",
      "source": [
        "#c) Дана строка. Определите частоту, с которой входят разные буквы в эту строку.\n",
        "\n",
        "string = \"предложение\"\n",
        "frequency = {}\n",
        "\n",
        "for char in string:\n",
        "    if char.isalpha():\n",
        "        char = char.lower()\n",
        "        #Если ключа char нет в словаре, метод get() возвращает второй аргумент, в данном случае - 0.\n",
        "        frequency[char] = frequency.get(char, 0) + 1\n",
        "\n",
        "print(\"Частота встречаемости букв в строке:\", frequency)"
      ],
      "metadata": {
        "colab": {
          "base_uri": "https://localhost:8080/"
        },
        "id": "ZEaKZ8hqRKiA",
        "outputId": "1ba2f0a1-011b-4940-ce3d-5c0eca0b1c22"
      },
      "execution_count": null,
      "outputs": [
        {
          "output_type": "stream",
          "name": "stdout",
          "text": [
            "Частота встречаемости букв в строке: {'п': 1, 'р': 1, 'е': 3, 'д': 1, 'л': 1, 'о': 1, 'ж': 1, 'н': 1, 'и': 1}\n"
          ]
        }
      ]
    },
    {
      "cell_type": "code",
      "source": [
        "#d) Дана строка. Группы символов между пробелами считаются словами.\n",
        "#Определите сколько слов начинается и заканчивается одной и той же буквой.\n",
        "\n",
        "string = \"абв где езж зил лодл\"\n",
        "words = string.split()\n",
        "count = sum(1 for word in words if word[0] == word[-1])\n",
        "print(\"Количество слов, начинающихся и заканчивающихся одной буквой:\", count)"
      ],
      "metadata": {
        "colab": {
          "base_uri": "https://localhost:8080/"
        },
        "id": "gj_XYFQsRM47",
        "outputId": "26145e6f-c079-422e-f65b-1328bb12a334"
      },
      "execution_count": null,
      "outputs": [
        {
          "output_type": "stream",
          "name": "stdout",
          "text": [
            "Количество слов, начинающихся и заканчивающихся одной буквой: 1\n"
          ]
        }
      ]
    },
    {
      "cell_type": "code",
      "source": [
        "#e) Создайте список из случайных целочисленных значений. Определите максимальный\n",
        "# и минимальный элементы в нем. Если таких элементов несколько, то выведите значение и индексы всех таких элементов.\n",
        "\n",
        "import random\n",
        "\n",
        "numbers = [random.randint(1, 3) for _ in range(10)]\n",
        "print(\"Исходный список:\", numbers)\n",
        "\n",
        "min_value = min(numbers)\n",
        "max_value = max(numbers)\n",
        "\n",
        "print(\"Минимальный элемент:\", min_value)\n",
        "print(\"Индексы минимального элемента:\", [i for i, x in enumerate(numbers) if x == min_value])\n",
        "print(\"Максимальный элемент:\", max_value)\n",
        "print(\"Индексы максимального элемента:\", [i for i, x in enumerate(numbers) if x == max_value])\n"
      ],
      "metadata": {
        "colab": {
          "base_uri": "https://localhost:8080/"
        },
        "id": "KvhbFe1hRVP1",
        "outputId": "af8ad9c1-822e-424f-9d89-06377c1dc984"
      },
      "execution_count": null,
      "outputs": [
        {
          "output_type": "stream",
          "name": "stdout",
          "text": [
            "Исходный список: [1, 3, 2, 3, 3, 2, 2, 1, 2, 3]\n",
            "Минимальный элемент: 1\n",
            "Индексы минимального элемента: [0, 7]\n",
            "Максимальный элемент: 3\n",
            "Индексы максимального элемента: [1, 3, 4, 9]\n"
          ]
        }
      ]
    },
    {
      "cell_type": "code",
      "source": [
        "#f) В списке перепишите все ненулевые элементы в начало списка (сохраняя порядок), а нулевые - в конец.\n",
        "\n",
        "lst = [3, 0, 2, 0, 4, 0, 1]\n",
        "sorted_list = sorted(lst, key=lambda x: 0 if x == 0 else 1)\n",
        "print(\"Список после переписывания:\", sorted_list)"
      ],
      "metadata": {
        "colab": {
          "base_uri": "https://localhost:8080/"
        },
        "id": "k1d4kctMRZou",
        "outputId": "b361cd4b-eb90-4f9a-b9df-244bfd429780"
      },
      "execution_count": null,
      "outputs": [
        {
          "output_type": "stream",
          "name": "stdout",
          "text": [
            "Список после переписывания: [0, 0, 0, 3, 2, 4, 1]\n"
          ]
        }
      ]
    },
    {
      "cell_type": "code",
      "source": [
        "#g) Получите список из положительных элементов другого списка, стоящих на четных местах.\n",
        "\n",
        "lst = [3, -1, 2, -4, 4, 3, 1]\n",
        "result = [x for i, x in enumerate(lst) if i % 2 == 0 and x > 0]\n",
        "print(\"Список положительных элементов на четных местах:\", result)"
      ],
      "metadata": {
        "colab": {
          "base_uri": "https://localhost:8080/"
        },
        "id": "KaCfQK2LRcIq",
        "outputId": "93d57122-577d-4d8b-9bb8-4a54a972591e"
      },
      "execution_count": null,
      "outputs": [
        {
          "output_type": "stream",
          "name": "stdout",
          "text": [
            "Список положительных элементов на четных местах: [3, 2, 4, 1]\n"
          ]
        }
      ]
    },
    {
      "cell_type": "code",
      "source": [
        "#h) В списке чисел найти самую длинную последовательность, которая упорядочена по возрастанию.\n",
        "# Если таких последовательностей несколько (с одинаковой максимальной длинной), то найти их все.\n",
        "#Вывести на экран сам список, длину самой длинной упорядоченной по возрастанию последовательности, саму последовательность (или несколько).\n",
        "\n",
        "def longest_increasing_subsequence(lst):\n",
        "    n = len(lst)\n",
        "    #отслеживаем длины возрастающих последовательностей заканчивающихся в i-ой позиции lst\n",
        "    lengths = [1] * n\n",
        "    for i in range(1, n):\n",
        "        if lst[i] > lst[i-1]:\n",
        "           lengths[i] = lengths[i-1] + 1\n",
        "\n",
        "    max_length = max(lengths)\n",
        "    print(\"Максимальная длина:\", max_length)\n",
        "    sequences = []\n",
        "    for i in range(n):\n",
        "        if lengths[i] == max_length:\n",
        "            sequence = [lst[i]]\n",
        "            for j in range(1,max_length):\n",
        "                sequence.append(lst[i-j])\n",
        "            sequence.reverse()\n",
        "            sequences.append(sequence)\n",
        "    return sequences\n",
        "\n",
        "lst = [1, 3, 5, 2, 4, 6, 8, 7, 9]\n",
        "sequences = longest_increasing_subsequence(lst)\n",
        "print(\"Исходный список:\", lst)\n",
        "print(\"Самая длинная упорядоченная последовательность(и):\", sequences)"
      ],
      "metadata": {
        "colab": {
          "base_uri": "https://localhost:8080/"
        },
        "id": "Ztl_ABLhRiS8",
        "outputId": "0a7c525a-86f7-4639-f763-03256fd0ce34"
      },
      "execution_count": null,
      "outputs": [
        {
          "output_type": "stream",
          "name": "stdout",
          "text": [
            "Максимальная длина: 4\n",
            "Исходный список: [1, 3, 5, 2, 4, 6, 8, 7, 9]\n",
            "Самая длинная упорядоченная последовательность(и): [[2, 4, 6, 8]]\n"
          ]
        }
      ]
    },
    {
      "cell_type": "markdown",
      "source": [
        "Доп.  задание к  лаб.  2.2"
      ],
      "metadata": {
        "id": "PBvMX-e3gOoC"
      }
    },
    {
      "cell_type": "code",
      "source": [
        "#A) Составить список чисел от 1 до n включительно, у которых 6 или более делителей.\n",
        "# Для каждого элемента полученного списка вывести сам элемент и все его делители.\n",
        "\n",
        "def get_divisors(num):\n",
        "    divisors = []\n",
        "    for i in range(1, num + 1):\n",
        "        if num % i == 0:\n",
        "            divisors.append(i)\n",
        "    return divisors\n",
        "\n",
        "def find_numbers_with_divisors(n, min_divisors):\n",
        "    result = []\n",
        "    for i in range(1, n + 1):\n",
        "        divisors = get_divisors(i)\n",
        "        if len(divisors) >= min_divisors:\n",
        "            result.append((i, divisors))\n",
        "    return result\n",
        "\n",
        "n = int(input(\"Введите значение n: \"))\n",
        "min_divisors = 6\n",
        "numbers_with_divisors = find_numbers_with_divisors(n, min_divisors)\n",
        "\n",
        "print(f\"Числа от 1 до {n} с {min_divisors} или более делителями:\")\n",
        "for number, divisors in numbers_with_divisors:\n",
        "    print(f\"{number}: {divisors}\")"
      ],
      "metadata": {
        "colab": {
          "base_uri": "https://localhost:8080/"
        },
        "id": "yuhfYBgBgRd6",
        "outputId": "94a1c44c-d04c-4708-d946-d22ec83ec424"
      },
      "execution_count": null,
      "outputs": [
        {
          "output_type": "stream",
          "name": "stdout",
          "text": [
            "Введите значение n: 45\n",
            "Числа от 1 до 45 с 6 или более делителями:\n",
            "12: [1, 2, 3, 4, 6, 12]\n",
            "18: [1, 2, 3, 6, 9, 18]\n",
            "20: [1, 2, 4, 5, 10, 20]\n",
            "24: [1, 2, 3, 4, 6, 8, 12, 24]\n",
            "28: [1, 2, 4, 7, 14, 28]\n",
            "30: [1, 2, 3, 5, 6, 10, 15, 30]\n",
            "32: [1, 2, 4, 8, 16, 32]\n",
            "36: [1, 2, 3, 4, 6, 9, 12, 18, 36]\n",
            "40: [1, 2, 4, 5, 8, 10, 20, 40]\n",
            "42: [1, 2, 3, 6, 7, 14, 21, 42]\n",
            "44: [1, 2, 4, 11, 22, 44]\n",
            "45: [1, 3, 5, 9, 15, 45]\n"
          ]
        }
      ]
    },
    {
      "cell_type": "code",
      "source": [
        "#B) Дана строка, где упомянуто несколько имён. Все имена начинаются с большой буквы,\n",
        "# остальные слова – с маленькой. Выписать все имена, встречающиеся в строке, в алфавитном порядке.\n",
        "\n",
        "import re\n",
        "#\\b: Это граница слова, которая указывает на начало или конец слова.\n",
        "#[A-Z]: Это символьный класс, который соответствует любой заглавной букве.\n",
        "#[a-z]*: Это символьный класс, который соответствует нулю или более строчных букв.\n",
        "def extract_names(s):\n",
        "    names = re.findall(r'\\b[A-Z][a-z]*\\b', s)\n",
        "    return sorted(names)\n",
        "\n",
        "input_string = input(\"Введите строку с именами: \")\n",
        "names = extract_names(input_string)\n",
        "\n",
        "print(\"Имена в алфавитном порядке:\")\n",
        "for name in names:\n",
        "    print(name)"
      ],
      "metadata": {
        "colab": {
          "base_uri": "https://localhost:8080/"
        },
        "id": "BDPnSlQLgWmI",
        "outputId": "f2d91637-fa6f-47a9-d4d7-b8a9067f37f4"
      },
      "execution_count": null,
      "outputs": [
        {
          "output_type": "stream",
          "name": "stdout",
          "text": [
            "Введите строку с именами: vf Msfve Hdfv dfvne\n",
            "Имена в алфавитном порядке:\n",
            "Hdfv\n",
            "Msfve\n"
          ]
        }
      ]
    },
    {
      "cell_type": "code",
      "source": [
        "\n",
        "\n"
      ],
      "metadata": {
        "id": "NXEWT4nugby6"
      },
      "execution_count": null,
      "outputs": []
    },
    {
      "cell_type": "code",
      "source": [],
      "metadata": {
        "id": "Zp_Fq2qNgeDN"
      },
      "execution_count": null,
      "outputs": []
    },
    {
      "cell_type": "code",
      "source": [],
      "metadata": {
        "id": "eo4TxoiSgexW"
      },
      "execution_count": null,
      "outputs": []
    }
  ]
}