{
  "nbformat": 4,
  "nbformat_minor": 0,
  "metadata": {
    "colab": {
      "provenance": [],
      "authorship_tag": "ABX9TyMNvRG2MA/UE95pWDNKldcZ",
      "include_colab_link": true
    },
    "kernelspec": {
      "name": "python3",
      "display_name": "Python 3"
    },
    "language_info": {
      "name": "python"
    }
  },
  "cells": [
    {
      "cell_type": "markdown",
      "metadata": {
        "id": "view-in-github",
        "colab_type": "text"
      },
      "source": [
        "<a href=\"https://colab.research.google.com/github/Margo-by/neural-networks/blob/main/4_1.ipynb\" target=\"_parent\"><img src=\"https://colab.research.google.com/assets/colab-badge.svg\" alt=\"Open In Colab\"/></a>"
      ]
    },
    {
      "cell_type": "code",
      "source": [
        "#Задание 1\n",
        "import numpy as np\n",
        "\n",
        "# Сигмоида\n",
        "def nonlin(x, deriv=False):\n",
        "    if deriv:\n",
        "        return x * (1 - x)\n",
        "    return 1 / (1 + np.exp(-x))\n",
        "\n",
        "# набор входных данных\n",
        "X = np.array([[0, 0],\n",
        "              [0, 1],\n",
        "              [1, 0],\n",
        "              [1, 1]])\n",
        "\n",
        "# выходные данные\n",
        "y = np.array([[0, 1, 1, 0]]).T\n",
        "\n",
        "# сделаем случайные числа более определенными\n",
        "np.random.seed(1)\n",
        "\n",
        "# инициализируем веса случайным образом со средним 0\n",
        "syn0 = 2 * np.random.random((2, 1)) - 1\n",
        "\n",
        "for iter in range(10000):\n",
        "    # прямое распространение\n",
        "    l0 = X\n",
        "    l1 = nonlin(np.dot(l0, syn0))\n",
        "\n",
        "    # насколько мы ошиблись?\n",
        "    l1_error = y - l1\n",
        "\n",
        "    # перемножим это с наклоном сигмоиды на основе значений в l1\n",
        "    l1_delta = l1_error * nonlin(l1, True)  # !!! - производная сигмоидной функции nonlin\n",
        "    # используется при вычислении l1_delta в процессе обратного распространения ошибки (backpropagation).\n",
        "\n",
        "    # обновим веса\n",
        "    \"\"\"\n",
        "    выполняет матричное умножение между транспонированной матрицей l0 и матрицей ошибок l1_delta.\n",
        "    Результатом этого умножения будет матрица весовых обновлений,\n",
        "    где каждый элемент представляет собой вклад конкретного признака в изменение веса.\n",
        "    \"\"\"\n",
        "    syn0 += np.dot(l0.T, l1_delta)\n",
        "\n",
        "print(\"Выходные данные после тренировки:\")\n",
        "print(l1)\n",
        "print('Веса:')\n",
        "print(syn0)\n"
      ],
      "metadata": {
        "colab": {
          "base_uri": "https://localhost:8080/"
        },
        "id": "tnkM8p2EFzB3",
        "outputId": "7b473a81-2f4f-41b4-bfb4-ecd133bd6c5a"
      },
      "execution_count": 15,
      "outputs": [
        {
          "output_type": "stream",
          "name": "stdout",
          "text": [
            "Выходные данные после тренировки:\n",
            "[[0.5]\n",
            " [0.5]\n",
            " [0.5]\n",
            " [0.5]]\n",
            "Веса:\n",
            "[[-3.19189120e-16]\n",
            " [ 1.52655666e-16]]\n"
          ]
        }
      ]
    },
    {
      "cell_type": "markdown",
      "source": [
        "Сравнение l1 после первой итерации и после последней:\n",
        "\n",
        "После первой итерации l1 содержит предсказанные значения, которые инициализированы случайными весами. Эти значения могут быть далеки от истинных значений y, поэтому начальная ошибка будет высокой.\n",
        "\n",
        "После множества итераций, когда нейронная сеть обучается, l1 будет содержать более точные предсказания, и ошибка будет уменьшаться с каждой итерацией."
      ],
      "metadata": {
        "id": "cRtgK9fhIkUC"
      }
    },
    {
      "cell_type": "code",
      "source": [
        "#Задание 2\n",
        "\n",
        "import numpy as np\n",
        "\n",
        "def nonlin(x, deriv=False):\n",
        "    if deriv:\n",
        "        return nonlin(x) * (1 - nonlin(x))\n",
        "    return 1 / (1 + np.exp(-x))\n",
        "\n",
        "X = np.array([[0,0],\n",
        "              [0,1],\n",
        "              [1,0],\n",
        "              [1,1]])\n",
        "\n",
        "y = np.array([[0],\n",
        "              [1],\n",
        "              [1],\n",
        "              [0]])\n",
        "\n",
        "np.random.seed(1)\n",
        "\n",
        "# случайно инициализируем веса, в среднем - 0\n",
        "syn0 = 2 * np.random.random((2,108)) - 1\n",
        "syn1 = 2 * np.random.random((108,1)) - 1\n",
        "\n",
        "for j in range(60000):\n",
        "    # проходим вперёд по слоям 0, 1 и 2\n",
        "    l0 = X\n",
        "    l1 = nonlin(np.dot(l0, syn0))\n",
        "    l2 = nonlin(np.dot(l1, syn1))\n",
        "\n",
        "    # как сильно мы ошиблись относительно нужной величины?\n",
        "    l2_error = y - l2\n",
        "\n",
        "    if (j % 10000) == 0:\n",
        "        print(\"Error:\" + str(np.mean(np.abs(l2_error))))\n",
        "\n",
        "\n",
        "    # в какую сторону нужно двигаться?\n",
        "    # если мы были уверены в предсказании, то сильно менять его не надо\n",
        "    l2_delta = l2_error * nonlin(l2, deriv=True)\n",
        "\n",
        "    # как сильно значения l1 влияют на ошибки в l2?\n",
        "    l1_error = l2_delta.dot(syn1.T)\n",
        "\n",
        "    # в каком направлении нужно двигаться, чтобы прийти к l1?\n",
        "    # если мы были уверены в предсказании, то сильно менять его не надо\n",
        "    l1_delta = l1_error * nonlin(l1, deriv=True)\n",
        "\n",
        "    syn1 += l1.T.dot(l2_delta)\n",
        "    syn0 += l0.T.dot(l1_delta)\n",
        "print(\"l2:\" + str( l2))\n",
        "\n"
      ],
      "metadata": {
        "colab": {
          "base_uri": "https://localhost:8080/"
        },
        "id": "ZD7Y2kOwL85R",
        "outputId": "16730ee7-842d-45fb-b137-227f318c6ceb"
      },
      "execution_count": 26,
      "outputs": [
        {
          "output_type": "stream",
          "name": "stdout",
          "text": [
            "Error:0.5000029500620907\n",
            "Error:0.0503854262809494\n",
            "Error:0.010754330549226608\n",
            "Error:0.01673230065871268\n",
            "Error:0.0037985499516080155\n",
            "Error:0.003790602354747533\n",
            "l2:[[7.00675622e-04]\n",
            " [9.98069221e-01]\n",
            " [9.98090749e-01]\n",
            " [1.57751831e-03]]\n"
          ]
        }
      ]
    },
    {
      "cell_type": "code",
      "source": [
        "#4 слоя\n",
        "import numpy as np\n",
        "\n",
        "def nonlin(x, deriv=False):\n",
        "    if deriv:\n",
        "        return nonlin(x) * (1 - nonlin(x))\n",
        "    return 1 / (1 + np.exp(-x))\n",
        "\n",
        "X = np.array([[0,0],\n",
        "              [0,1],\n",
        "              [1,0],\n",
        "              [1,1]])\n",
        "\n",
        "y = np.array([[0],\n",
        "              [1],\n",
        "              [1],\n",
        "              [0]])\n",
        "\n",
        "np.random.seed(1)\n",
        "\n",
        "# случайно инициализируем веса, в среднем - 0\n",
        "syn0 = 2 * np.random.random((2,4)) - 1\n",
        "syn1 = 2 * np.random.random((4,2)) - 1\n",
        "syn2 = 2 * np.random.random((2,1)) - 1\n",
        "\n",
        "for j in range(60000):\n",
        "    # проходим вперёд по слоям 0, 1, 2 и 3\n",
        "    l0 = X\n",
        "    l1 = nonlin(np.dot(l0, syn0))\n",
        "    l2 = nonlin(np.dot(l1, syn1))\n",
        "    l3 = nonlin(np.dot(l2, syn2))\n",
        "\n",
        "    # как сильно мы ошиблись относительно нужной величины?\n",
        "    l3_error = y - l3\n",
        "\n",
        "    if (j % 10000) == 0:\n",
        "        print(\"Error:\" + str(np.mean(np.abs(l3_error))))\n",
        "\n",
        "\n",
        "    # в какую сторону нужно двигаться?\n",
        "    # если мы были уверены в предсказании, то сильно менять его не надо\n",
        "    l3_delta = l3_error * nonlin(l3, deriv=True)\n",
        "\n",
        "    # как сильно значения l2 влияют на ошибки в l3?\n",
        "    l2_error = l3_delta.dot(syn2.T)\n",
        "    l2_delta = l2_error * nonlin(l2, deriv=True)\n",
        "\n",
        "    # как сильно значения l1 влияют на ошибки в l2?\n",
        "    l1_error = l2_delta.dot(syn1.T)\n",
        "    l1_delta = l1_error * nonlin(l1, deriv=True)\n",
        "\n",
        "    syn2 += l2.T.dot(l3_delta)\n",
        "    syn1 += l1.T.dot(l2_delta)\n",
        "    syn0 += l0.T.dot(l1_delta)\n",
        "print(\"l3:\" + str( l3))\n"
      ],
      "metadata": {
        "colab": {
          "base_uri": "https://localhost:8080/"
        },
        "id": "wrvxrBzCWfRG",
        "outputId": "1f59fca1-2c8f-4da0-e3a8-7ecb556d7893"
      },
      "execution_count": 27,
      "outputs": [
        {
          "output_type": "stream",
          "name": "stdout",
          "text": [
            "Error:0.5000826823194491\n",
            "Error:0.49998310863771056\n",
            "Error:0.003015131544639153\n",
            "Error:0.0008530598886112963\n",
            "Error:0.001191402410640795\n",
            "Error:0.000531551146049807\n",
            "l3:[[3.13671307e-04]\n",
            " [9.99902353e-01]\n",
            " [9.99824419e-01]\n",
            " [6.03064499e-05]]\n"
          ]
        }
      ]
    },
    {
      "cell_type": "code",
      "source": [
        "#6 нейронов, добавила нормализацию данных\n",
        "import numpy as np\n",
        "\n",
        "def nonlin(x, deriv=False):\n",
        "    if deriv:\n",
        "        return nonlin(x) * (1 - nonlin(x))\n",
        "    return 1 / (1 + np.exp(-x))\n",
        "\n",
        "X = np.array([[0, 0, 1],\n",
        "              [0, 1, 1],\n",
        "              [1, 0, 1],\n",
        "              [1, 1, 1]])\n",
        "\n",
        "y = np.array([[0],\n",
        "              [1],\n",
        "              [1],\n",
        "              [0]])\n",
        "\n",
        "# Нормализуем данные\n",
        "mean = np.mean(X, axis=0)\n",
        "stddev = np.std(X, axis=0)\n",
        "stddev[stddev == 0] = 1  # Заменяем нулевые стандартные отклонения на 1, чтобы избежать деления на ноль\n",
        "X = (X - mean) / stddev\n",
        "\n",
        "\n",
        "np.random.seed(1)\n",
        "\n",
        "# случайно инициализируем веса, в среднем - 0\n",
        "syn0 = 2 * np.random.random((3, 4)) - 1\n",
        "syn1 = 2 * np.random.random((4, 6)) - 1\n",
        "\n",
        "for j in range(60000):\n",
        "    # проходим вперёд по слоям 0, 1 и 2\n",
        "    l0 = X\n",
        "    l1 = nonlin(np.dot(l0, syn0))\n",
        "    l2 = nonlin(np.dot(l1, syn1))\n",
        "\n",
        "    # как сильно мы ошиблись относительно нужной величины?\n",
        "    l2_error = y - l2\n",
        "\n",
        "    if (j % 10000) == 0:\n",
        "        print(\"Error:\" + str(np.mean(np.abs(l2_error))))\n",
        "\n",
        "    # в какую сторону нужно двигаться?\n",
        "    # если мы были уверены в предсказании, то сильно менять его не надо\n",
        "    l2_delta = l2_error * nonlin(l2, deriv=True)\n",
        "\n",
        "    # как сильно значения l1 влияют на ошибки в l2?\n",
        "    l1_error = l2_delta.dot(syn1.T)\n",
        "\n",
        "    # в каком направлении нужно двигаться, чтобы прийти к l1?\n",
        "    # если мы были уверены в предсказании, то сильно менять его не надо\n",
        "    l1_delta = l1_error * nonlin(l1, deriv=True)\n",
        "\n",
        "    syn1 += l1.T.dot(l2_delta)\n",
        "    syn0 += l0.T.dot(l1_delta)\n"
      ],
      "metadata": {
        "colab": {
          "base_uri": "https://localhost:8080/"
        },
        "id": "KHwC0vptQoJL",
        "outputId": "2b0399a5-bef6-4704-d7bd-5985b53bea79"
      },
      "execution_count": 13,
      "outputs": [
        {
          "output_type": "stream",
          "name": "stdout",
          "text": [
            "Error:0.499647548050463\n",
            "Error:0.5000000000219412\n",
            "Error:0.5000000000575361\n",
            "Error:0.500000000080754\n",
            "Error:0.5000000001124231\n",
            "Error:0.5000000001547095\n"
          ]
        }
      ]
    }
  ]
}