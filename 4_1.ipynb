{
  "nbformat": 4,
  "nbformat_minor": 0,
  "metadata": {
    "colab": {
      "provenance": [],
      "authorship_tag": "ABX9TyN2EdPmJX2mc9mVlHlkvL6N",
      "include_colab_link": true
    },
    "kernelspec": {
      "name": "python3",
      "display_name": "Python 3"
    },
    "language_info": {
      "name": "python"
    }
  },
  "cells": [
    {
      "cell_type": "markdown",
      "metadata": {
        "id": "view-in-github",
        "colab_type": "text"
      },
      "source": [
        "<a href=\"https://colab.research.google.com/github/Margo-by/neural-networks/blob/main/4_1.ipynb\" target=\"_parent\"><img src=\"https://colab.research.google.com/assets/colab-badge.svg\" alt=\"Open In Colab\"/></a>"
      ]
    },
    {
      "cell_type": "code",
      "source": [
        "#Задание 1\n",
        "import numpy as np\n",
        "\n",
        "# Сигмоида\n",
        "def nonlin(x, deriv=False):\n",
        "    if deriv:\n",
        "        return x * (1 - x)\n",
        "    return 1 / (1 + np.exp(-x))\n",
        "\n",
        "#входные и выходные данные подразумевают исключающее или\n",
        "# набор входных данных\n",
        "X = np.array([[0, 0],\n",
        "              [0, 1],\n",
        "              [1, 0],\n",
        "              [1, 1]])\n",
        "\n",
        "# выходные данные\n",
        "y = np.array([[0, 1, 1, 0]]).T\n",
        "\n",
        "# сделаем случайные числа более определенными\n",
        "np.random.seed(1)\n",
        "\n",
        "# инициализируем веса случайным образом со средним 0 в диапазоне(-1,1)\n",
        "syn0 = 2 * np.random.random((2, 1)) - 1\n",
        "\n",
        "for iter in range(10000):\n",
        "    # прямое распространение\n",
        "    l0 = X\n",
        "    l1 = nonlin(np.dot(l0, syn0))\n",
        "\n",
        "    # насколько мы ошиблись?\n",
        "    l1_error = y - l1\n",
        "\n",
        "    # перемножим это с наклоном сигмоиды на основе значений в l1\n",
        "    l1_delta = l1_error * nonlin(l1, True)  # !!! - производная сигмоидной функции nonlin\n",
        "    # используется при вычислении l1_delta в процессе обратного распространения ошибки (backpropagation).\n",
        "\n",
        "    # обновим веса\n",
        "    \"\"\"\n",
        "    выполняет матричное умножение между транспонированной матрицей l0 и матрицей ошибок l1_delta.\n",
        "    Результатом этого умножения будет матрица весовых обновлений,\n",
        "    где каждый элемент представляет собой вклад конкретного признака в изменение веса.\n",
        "    \"\"\"\n",
        "    syn0 += np.dot(l0.T, l1_delta)\n",
        "\n",
        "print(\"Выходные данные после тренировки:\")\n",
        "print(l1)\n",
        "print('Веса:')\n",
        "print(syn0)\n"
      ],
      "metadata": {
        "colab": {
          "base_uri": "https://localhost:8080/"
        },
        "id": "tnkM8p2EFzB3",
        "outputId": "693906b0-b632-4a35-8674-a29c115eef9d"
      },
      "execution_count": null,
      "outputs": [
        {
          "output_type": "stream",
          "name": "stdout",
          "text": [
            "Выходные данные после тренировки:\n",
            "[[0.5]\n",
            " [0.5]\n",
            " [0.5]\n",
            " [0.5]]\n",
            "Веса:\n",
            "[[-3.19189120e-16]\n",
            " [ 1.52655666e-16]]\n"
          ]
        }
      ]
    },
    {
      "cell_type": "code",
      "source": [
        "#Задание 1\n",
        "import numpy as np\n",
        "\n",
        "# Сигмоида\n",
        "def nonlin(x, deriv=False):\n",
        "    if deriv:\n",
        "        return x * (1 - x)\n",
        "    return 1 / (1 + np.exp(-x))\n",
        "\n",
        "#входные и выходные данные подразумевают что результат совпадает с первым столбцом\n",
        "# набор входных данных\n",
        "X = np.array([[0, 0],\n",
        "              [0, 1],\n",
        "              [1, 0],\n",
        "              [1, 1]])\n",
        "\n",
        "# выходные данные\n",
        "y = np.array([[0, 0, 1, 1]]).T\n",
        "\n",
        "# сделаем случайные числа более определенными\n",
        "np.random.seed(1)\n",
        "\n",
        "# инициализируем веса случайным образом со средним 0 в диапазоне(-1,1)\n",
        "syn0 = 2 * np.random.random((2, 1)) - 1\n",
        "\n",
        "for iter in range(10000):\n",
        "    # прямое распространение\n",
        "    l0 = X\n",
        "    l1 = nonlin(np.dot(l0, syn0))\n",
        "\n",
        "    # насколько мы ошиблись?\n",
        "    l1_error = y - l1\n",
        "\n",
        "    # перемножим это с наклоном сигмоиды на основе значений в l1\n",
        "    l1_delta = l1_error * nonlin(l1, True)  # !!! - производная сигмоидной функции nonlin\n",
        "    # используется при вычислении l1_delta в процессе обратного распространения ошибки (backpropagation).\n",
        "\n",
        "    # обновим веса\n",
        "    \"\"\"\n",
        "    выполняет матричное умножение между транспонированной матрицей l0 и матрицей ошибок l1_delta.\n",
        "    Результатом этого умножения будет матрица весовых обновлений,\n",
        "    где каждый элемент представляет собой вклад конкретного признака в изменение веса.\n",
        "    \"\"\"\n",
        "    syn0 += np.dot(l0.T, l1_delta)\n",
        "\n",
        "print(\"Выходные данные после тренировки:\")\n",
        "print(l1)\n",
        "print('Веса:')\n",
        "print(syn0)\n"
      ],
      "metadata": {
        "colab": {
          "base_uri": "https://localhost:8080/"
        },
        "id": "4BbzeuIq-buf",
        "outputId": "82c25492-cc5a-47a8-9fa1-6ad0a30e3dc5"
      },
      "execution_count": null,
      "outputs": [
        {
          "output_type": "stream",
          "name": "stdout",
          "text": [
            "Выходные данные после тренировки:\n",
            "[[0.5       ]\n",
            " [0.01253477]\n",
            " [0.99986896]\n",
            " [0.98978102]]\n",
            "Веса:\n",
            "[[ 8.93997576]\n",
            " [-4.36668704]]\n"
          ]
        }
      ]
    },
    {
      "cell_type": "markdown",
      "source": [
        "не очень хорошие выходные реззультаты"
      ],
      "metadata": {
        "id": "6ow7m4CW-29y"
      }
    },
    {
      "cell_type": "code",
      "source": [],
      "metadata": {
        "id": "YukdV0ie-2kU"
      },
      "execution_count": null,
      "outputs": []
    },
    {
      "cell_type": "markdown",
      "source": [
        "*результат задания 2* получился довольно хороший за счёт появления скрытого слоя с 7,8 нейронами\n",
        "Error:0.4994800947259584\n",
        "l2:[[0.00510093]\n",
        " [0.99168975]\n",
        " [0.99126444]\n",
        " [0.0069945 ]]\n",
        "\n",
        "в случае 1-6 нейронов плохой результат\n",
        "Error:0.4995289647766772\n",
        "l2:[[0.49553727]\n",
        " [0.49628491]\n",
        " [0.4987933 ]\n",
        " [0.49892142]]\n"
      ],
      "metadata": {
        "id": "Uw3qcjMf_8ba"
      }
    },
    {
      "cell_type": "code",
      "source": [
        "#Задание 2\n",
        "\n",
        "import numpy as np\n",
        "\n",
        "def nonlin(x, deriv=False):\n",
        "    if deriv:\n",
        "        return nonlin(x) * (1 - nonlin(x))\n",
        "    return 1 / (1 + np.exp(-x))\n",
        "\n",
        "X = np.array([[0,0],\n",
        "              [0,1],\n",
        "              [1,0],\n",
        "              [1,1]])\n",
        "\n",
        "y = np.array([[0],\n",
        "              [1],\n",
        "              [1],\n",
        "              [0]])\n",
        "\n",
        "np.random.seed(1)\n",
        "\n",
        "# случайно инициализируем веса, в среднем - 0, на скрытом слое 4 нейрона\n",
        "syn0 = 2 * np.random.random((2,4)) - 1\n",
        "syn1 = 2 * np.random.random((4,1)) - 1\n",
        "\n",
        "for j in range(10000):\n",
        "    # проходим вперёд по слоям 0, 1 и 2\n",
        "    l0 = X\n",
        "    l1 = nonlin(np.dot(l0, syn0))\n",
        "    l2 = nonlin(np.dot(l1, syn1))\n",
        "\n",
        "    # как сильно мы ошиблись относительно нужной величины?\n",
        "    l2_error = y - l2\n",
        "\n",
        "    if (j % 10000) == 0:\n",
        "        print(\"Error:\" + str(np.mean(np.abs(l2_error))))\n",
        "\n",
        "\n",
        "    # в какую сторону нужно двигаться?\n",
        "    # если мы были уверены в предсказании, то сильно менять его не надо\n",
        "    l2_delta = l2_error * nonlin(l2, deriv=True)\n",
        "\n",
        "    # как сильно значения l1 влияют на ошибки в l2?\n",
        "    l1_error = l2_delta.dot(syn1.T)\n",
        "\n",
        "    # в каком направлении нужно двигаться, чтобы прийти к l1?\n",
        "    # если мы были уверены в предсказании, то сильно менять его не надо\n",
        "    l1_delta = l1_error * nonlin(l1, deriv=True)\n",
        "\n",
        "    syn1 += l1.T.dot(l2_delta)\n",
        "    syn0 += l0.T.dot(l1_delta)\n",
        "print(\"l2:\" + str( l2))"
      ],
      "metadata": {
        "colab": {
          "base_uri": "https://localhost:8080/"
        },
        "id": "0xqz_p7WAWM5",
        "outputId": "4ff6dd83-7cda-44e7-eaed-c6c50a3a4d9a"
      },
      "execution_count": null,
      "outputs": [
        {
          "output_type": "stream",
          "name": "stdout",
          "text": [
            "Error:0.4995289647766772\n",
            "l2:[[0.49553727]\n",
            " [0.49628491]\n",
            " [0.4987933 ]\n",
            " [0.49892142]]\n"
          ]
        }
      ]
    },
    {
      "cell_type": "markdown",
      "source": [
        "в случае 2 скрытых слоёв результат получается хорошим при 4 и 2 нейронах на них соответственно\n",
        "Error:0.5000826823194491\n",
        "Error:0.49998310863771056\n",
        "Error:0.003015131544639153\n",
        "Error:0.0008530598886112963\n",
        "Error:0.001191402410640795\n",
        "Error:0.000531551146049807\n",
        "l3:[[3.13671307e-04]\n",
        " [9.99902353e-01]\n",
        " [9.99824419e-01]\n",
        " [6.03064499e-05]]"
      ],
      "metadata": {
        "id": "3_zEMs_KCLjV"
      }
    },
    {
      "cell_type": "code",
      "source": [
        "#4 слоя\n",
        "import numpy as np\n",
        "\n",
        "def nonlin(x, deriv=False):\n",
        "    if deriv:\n",
        "        return nonlin(x) * (1 - nonlin(x))\n",
        "    return 1 / (1 + np.exp(-x))\n",
        "\n",
        "X = np.array([[0,0],\n",
        "              [0,1],\n",
        "              [1,0],\n",
        "              [1,1]])\n",
        "\n",
        "y = np.array([[0],\n",
        "              [1],\n",
        "              [1],\n",
        "              [0]])\n",
        "\n",
        "np.random.seed(1)\n",
        "\n",
        "# случайно инициализируем веса, в среднем - 0\n",
        "syn0 = 2 * np.random.random((2,4)) - 1\n",
        "syn1 = 2 * np.random.random((4,2)) - 1\n",
        "syn2 = 2 * np.random.random((2,1)) - 1\n",
        "\n",
        "for j in range(60000):\n",
        "    # проходим вперёд по слоям 0, 1, 2 и 3\n",
        "    l0 = X\n",
        "    l1 = nonlin(np.dot(l0, syn0))\n",
        "    l2 = nonlin(np.dot(l1, syn1))\n",
        "    l3 = nonlin(np.dot(l2, syn2))\n",
        "\n",
        "    # как сильно мы ошиблись относительно нужной величины?\n",
        "    l3_error = y - l3\n",
        "\n",
        "    if (j % 10000) == 0:\n",
        "        print(\"Error:\" + str(np.mean(np.abs(l3_error))))\n",
        "\n",
        "\n",
        "    # в какую сторону нужно двигаться?\n",
        "    # если мы были уверены в предсказании, то сильно менять его не надо\n",
        "    l3_delta = l3_error * nonlin(l3, deriv=True)\n",
        "\n",
        "    # как сильно значения l2 влияют на ошибки в l3?\n",
        "    l2_error = l3_delta.dot(syn2.T)\n",
        "    l2_delta = l2_error * nonlin(l2, deriv=True)\n",
        "\n",
        "    # как сильно значения l1 влияют на ошибки в l2?\n",
        "    l1_error = l2_delta.dot(syn1.T)\n",
        "    l1_delta = l1_error * nonlin(l1, deriv=True)\n",
        "\n",
        "    syn2 += l2.T.dot(l3_delta)\n",
        "    syn1 += l1.T.dot(l2_delta)\n",
        "    syn0 += l0.T.dot(l1_delta)\n",
        "print(\"l3:\" + str( l3))\n"
      ],
      "metadata": {
        "colab": {
          "base_uri": "https://localhost:8080/"
        },
        "id": "wrvxrBzCWfRG",
        "outputId": "84652a85-5d76-489d-a74d-c41209d1feff"
      },
      "execution_count": 20,
      "outputs": [
        {
          "output_type": "stream",
          "name": "stdout",
          "text": [
            "Error:0.5000826823194491\n",
            "Error:0.49998310863771056\n",
            "Error:0.003015131544639153\n",
            "Error:0.0008530598886112963\n",
            "Error:0.001191402410640795\n",
            "Error:0.000531551146049807\n",
            "l3:[[3.13671307e-04]\n",
            " [9.99902353e-01]\n",
            " [9.99824419e-01]\n",
            " [6.03064499e-05]]\n"
          ]
        }
      ]
    }
  ]
}