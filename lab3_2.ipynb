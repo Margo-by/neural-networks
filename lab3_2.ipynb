{
  "nbformat": 4,
  "nbformat_minor": 0,
  "metadata": {
    "colab": {
      "provenance": [],
      "authorship_tag": "ABX9TyPGTg0H7isxd/CnW7jO1HV9",
      "include_colab_link": true
    },
    "kernelspec": {
      "name": "python3",
      "display_name": "Python 3"
    },
    "language_info": {
      "name": "python"
    }
  },
  "cells": [
    {
      "cell_type": "markdown",
      "metadata": {
        "id": "view-in-github",
        "colab_type": "text"
      },
      "source": [
        "<a href=\"https://colab.research.google.com/github/Margo-by/neural-networks/blob/main/lab3_2.ipynb\" target=\"_parent\"><img src=\"https://colab.research.google.com/assets/colab-badge.svg\" alt=\"Open In Colab\"/></a>"
      ]
    },
    {
      "cell_type": "markdown",
      "source": [
        "**Задание 1.  (из  темы  3.3):**"
      ],
      "metadata": {
        "id": "5Evfymfl6_y4"
      }
    },
    {
      "cell_type": "code",
      "execution_count": 2,
      "metadata": {
        "colab": {
          "base_uri": "https://localhost:8080/"
        },
        "id": "G1W_oCnd6uMk",
        "outputId": "0c4f6332-fe34-4ba3-9d9e-037187566b7d"
      },
      "outputs": [
        {
          "output_type": "stream",
          "name": "stdout",
          "text": [
            "0.5 0.6 0.4 0.3\n",
            "Расстояние между точками: 0.31622776601683794\n"
          ]
        }
      ],
      "source": [
        "\"\"\"\n",
        "a) Даны четыре действительных числа: x1, y1, x2, y2.\n",
        " Напишите функцию distance(x1, y1, x2, y2), вычисляющая расстояние между точкой (x1,y1) и (x2,y2).\n",
        "  Считайте четыре действительных числа и выведите результат работы этой функции.\n",
        "\"\"\"\n",
        "import math\n",
        "\n",
        "def distance(x1, y1, x2, y2):\n",
        "    return math.sqrt((x2 - x1) ** 2 + (y2 - y1) ** 2)\n",
        "\n",
        "x1, y1, x2, y2 = map(float, input().split())\n",
        "result = distance(x1, y1, x2, y2)\n",
        "print(\"Расстояние между точками:\", result)\n"
      ]
    },
    {
      "cell_type": "code",
      "source": [
        "\"\"\"\n",
        "b) Дано действительное положительное число a и целоe число n.\n",
        "Вычислите an. Решение оформите в виде функции power(a, n).\n",
        "Стандартной функцией возведения в степень можно пользоваться для проверки результата.\n",
        "\"\"\"\n",
        "def power(a, n):\n",
        "    result = 1\n",
        "    for _ in range(n):\n",
        "        result *= a\n",
        "    return result\n",
        "\n",
        "a = float(input(\"Введите действительное положительное число a: \"))\n",
        "n = int(input(\"Введите целое число n: \"))\n",
        "result = power(a, n)\n",
        "print(\"Результат возведения в степень:\", result)\n",
        "print(\"Результат возведения в степень стандартной функцией:\", a**n)\n",
        "\n"
      ],
      "metadata": {
        "colab": {
          "base_uri": "https://localhost:8080/"
        },
        "id": "sd1t0-fs7K1j",
        "outputId": "871d6f38-cf7f-4e92-f0a9-899354fcd94e"
      },
      "execution_count": 5,
      "outputs": [
        {
          "output_type": "stream",
          "name": "stdout",
          "text": [
            "Введите действительное положительное число a: 4.5\n",
            "Введите целое число n: 7\n",
            "Результат возведения в степень: 37366.9453125\n",
            "Результат возведения в степень стандартной функцией: 37366.9453125\n"
          ]
        }
      ]
    },
    {
      "cell_type": "code",
      "source": [
        "\"\"\"\n",
        "c) Напишите функцию capitalize(), которая принимает слово из маленьких латинских букв и возвращает его же,\n",
        " меняя первую букву на большую.Например, print(capitalize('word')) должно печатать слово Word.\n",
        "На вход подаётся строка, состоящая из слов, разделённых одним пробелом.\n",
        "Слова состоят из маленьких латинских букв. Напечатайте исходную строку,\n",
        "сделав так, чтобы каждое слово начиналось с большой буквы. При этом используйте вашу функцию capitalize().\n",
        "Напомним, что в Питоне есть функция ord(), которая по символу возвращает его код в таблице ASCII,\n",
        "и функция chr(), которая по коду символа возвращает сам символ. Например, ord('a') == 97, chr(97) == 'a'.\n",
        "\"\"\"\n",
        "def capitalize(word):\n",
        "    first_letter = word[0].upper()  # Переводим первую букву в верхний регистр\n",
        "    rest_of_word = word[1:]  # Оставляем остальные символы слова без изменений\n",
        "    return first_letter + rest_of_word\n",
        "\n",
        "input_string = input(\"Введите строку из слов, разделённых пробелами: \")\n",
        "words = input_string.split()\n",
        "capitalized_words = [capitalize(word) for word in words]\n",
        "capitalized_string = ' '.join(capitalized_words)\n",
        "print(\"Исходная строка с большими буквами:\", capitalized_string)\n"
      ],
      "metadata": {
        "colab": {
          "base_uri": "https://localhost:8080/"
        },
        "id": "t0WYqEeS7QqL",
        "outputId": "d56a39ae-bc1f-4ebd-e30b-310c865a0e79"
      },
      "execution_count": 13,
      "outputs": [
        {
          "output_type": "stream",
          "name": "stdout",
          "text": [
            "Введите строку из слов, разделённых пробелами: про ло\n",
            "Исходная строка с большими буквами: Про Ло\n"
          ]
        }
      ]
    },
    {
      "cell_type": "code",
      "source": [
        "\"\"\"\n",
        "d) Напишем функцию max(), которая принимает переменное число аргументов и возвращает\n",
        " максимум из них (на самом деле, такая функция уже встроена в Питон).\n",
        "\"\"\"\n",
        "def max(*args):\n",
        "    if len(args) == 0:\n",
        "        return None\n",
        "    max_value = args[0]\n",
        "    for arg in args:\n",
        "        if arg > max_value:\n",
        "            max_value = arg\n",
        "    return max_value\n",
        "\n",
        "result = max(3, 7, 2, 9, 5)\n",
        "print(\"Максимум из чисел:\", result)\n"
      ],
      "metadata": {
        "colab": {
          "base_uri": "https://localhost:8080/"
        },
        "id": "PepRg4qs7ecw",
        "outputId": "58d621e2-f5f7-441a-e8be-aa0dfef92179"
      },
      "execution_count": 6,
      "outputs": [
        {
          "output_type": "stream",
          "name": "stdout",
          "text": [
            "Максимум из чисел: 9\n"
          ]
        }
      ]
    },
    {
      "cell_type": "code",
      "source": [
        "\"\"\"\n",
        "e) В написанную в пункте a) программу добавьте обработку не менее двух типов исключений.\n",
        "\"\"\"\n",
        "def distance(x1, y1, x2, y2):\n",
        "    try:\n",
        "        return math.sqrt((x2 - x1) ** 2 + (y2 - y1) ** 2)\n",
        "    except TypeError:\n",
        "        return \"Некорректные типы данных для вычисления расстояния\"\n",
        "    except ValueError:\n",
        "        return \"Некорректные значения для вычисления расстояния\"\n",
        "\n",
        "try:\n",
        "    x1, y1, x2, y2 = map(float, input(\"Введите x1, y1, x2, y2 через пробел: \").split())\n",
        "    result = distance(x1, y1, x2, y2)\n",
        "    print(\"Расстояние между точками:\", result)\n",
        "except ValueError:\n",
        "    print(\"Ошибка: Введите четыре действительных числа через пробел\")\n",
        "\n",
        "try:\n",
        "    # Пример использования, где x1 и y2 являются строками\n",
        "  x1, y1, x2, y2 = \"1\", 2, 3, \"4\"\n",
        "  result = distance(x1, y1, x2, y2)\n",
        "  print(\"Расстояние между точками: \" , result)\n",
        "except TypeError:\n",
        "    print(\"Ошибка: Некорректные типы данных для вычисления расстояния\")"
      ],
      "metadata": {
        "colab": {
          "base_uri": "https://localhost:8080/"
        },
        "id": "6FX6-way7kyE",
        "outputId": "214f2d58-8e8e-44ce-c750-049692a71bd6"
      },
      "execution_count": 12,
      "outputs": [
        {
          "output_type": "stream",
          "name": "stdout",
          "text": [
            "Введите x1, y1, x2, y2 через пробел: 4 5 6 7\n",
            "Расстояние между точками: 2.8284271247461903\n",
            "Расстояние между точками:  Некорректные типы данных для вычисления расстояния\n"
          ]
        }
      ]
    }
  ]
}